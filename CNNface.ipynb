{
 "cells": [
  {
   "cell_type": "code",
   "execution_count": 1,
   "metadata": {},
   "outputs": [
    {
     "name": "stderr",
     "output_type": "stream",
     "text": [
      "Using TensorFlow backend.\n",
      "/home/pedro/.local/lib/python3.6/site-packages/tensorflow/python/framework/dtypes.py:516: FutureWarning: Passing (type, 1) or '1type' as a synonym of type is deprecated; in a future version of numpy, it will be understood as (type, (1,)) / '(1,)type'.\n",
      "  _np_qint8 = np.dtype([(\"qint8\", np.int8, 1)])\n",
      "/home/pedro/.local/lib/python3.6/site-packages/tensorflow/python/framework/dtypes.py:517: FutureWarning: Passing (type, 1) or '1type' as a synonym of type is deprecated; in a future version of numpy, it will be understood as (type, (1,)) / '(1,)type'.\n",
      "  _np_quint8 = np.dtype([(\"quint8\", np.uint8, 1)])\n",
      "/home/pedro/.local/lib/python3.6/site-packages/tensorflow/python/framework/dtypes.py:518: FutureWarning: Passing (type, 1) or '1type' as a synonym of type is deprecated; in a future version of numpy, it will be understood as (type, (1,)) / '(1,)type'.\n",
      "  _np_qint16 = np.dtype([(\"qint16\", np.int16, 1)])\n",
      "/home/pedro/.local/lib/python3.6/site-packages/tensorflow/python/framework/dtypes.py:519: FutureWarning: Passing (type, 1) or '1type' as a synonym of type is deprecated; in a future version of numpy, it will be understood as (type, (1,)) / '(1,)type'.\n",
      "  _np_quint16 = np.dtype([(\"quint16\", np.uint16, 1)])\n",
      "/home/pedro/.local/lib/python3.6/site-packages/tensorflow/python/framework/dtypes.py:520: FutureWarning: Passing (type, 1) or '1type' as a synonym of type is deprecated; in a future version of numpy, it will be understood as (type, (1,)) / '(1,)type'.\n",
      "  _np_qint32 = np.dtype([(\"qint32\", np.int32, 1)])\n",
      "/home/pedro/.local/lib/python3.6/site-packages/tensorflow/python/framework/dtypes.py:525: FutureWarning: Passing (type, 1) or '1type' as a synonym of type is deprecated; in a future version of numpy, it will be understood as (type, (1,)) / '(1,)type'.\n",
      "  np_resource = np.dtype([(\"resource\", np.ubyte, 1)])\n",
      "/home/pedro/.local/lib/python3.6/site-packages/tensorboard/compat/tensorflow_stub/dtypes.py:541: FutureWarning: Passing (type, 1) or '1type' as a synonym of type is deprecated; in a future version of numpy, it will be understood as (type, (1,)) / '(1,)type'.\n",
      "  _np_qint8 = np.dtype([(\"qint8\", np.int8, 1)])\n",
      "/home/pedro/.local/lib/python3.6/site-packages/tensorboard/compat/tensorflow_stub/dtypes.py:542: FutureWarning: Passing (type, 1) or '1type' as a synonym of type is deprecated; in a future version of numpy, it will be understood as (type, (1,)) / '(1,)type'.\n",
      "  _np_quint8 = np.dtype([(\"quint8\", np.uint8, 1)])\n",
      "/home/pedro/.local/lib/python3.6/site-packages/tensorboard/compat/tensorflow_stub/dtypes.py:543: FutureWarning: Passing (type, 1) or '1type' as a synonym of type is deprecated; in a future version of numpy, it will be understood as (type, (1,)) / '(1,)type'.\n",
      "  _np_qint16 = np.dtype([(\"qint16\", np.int16, 1)])\n",
      "/home/pedro/.local/lib/python3.6/site-packages/tensorboard/compat/tensorflow_stub/dtypes.py:544: FutureWarning: Passing (type, 1) or '1type' as a synonym of type is deprecated; in a future version of numpy, it will be understood as (type, (1,)) / '(1,)type'.\n",
      "  _np_quint16 = np.dtype([(\"quint16\", np.uint16, 1)])\n",
      "/home/pedro/.local/lib/python3.6/site-packages/tensorboard/compat/tensorflow_stub/dtypes.py:545: FutureWarning: Passing (type, 1) or '1type' as a synonym of type is deprecated; in a future version of numpy, it will be understood as (type, (1,)) / '(1,)type'.\n",
      "  _np_qint32 = np.dtype([(\"qint32\", np.int32, 1)])\n",
      "/home/pedro/.local/lib/python3.6/site-packages/tensorboard/compat/tensorflow_stub/dtypes.py:550: FutureWarning: Passing (type, 1) or '1type' as a synonym of type is deprecated; in a future version of numpy, it will be understood as (type, (1,)) / '(1,)type'.\n",
      "  np_resource = np.dtype([(\"resource\", np.ubyte, 1)])\n"
     ]
    }
   ],
   "source": [
    "import numpy as np\n",
    "\n",
    "import pandas as pd\n",
    "\n",
    "import keras\n",
    "from keras import backend\n",
    "from keras.models import Sequential\n",
    "from keras.layers import Dense, Conv2D, Flatten, MaxPooling2D, Activation, Dropout\n",
    "\n",
    "from sklearn import datasets\n",
    "from sklearn.model_selection import train_test_split\n",
    "from sklearn.metrics import confusion_matrix\n",
    "\n",
    "from matplotlib import pyplot as plt\n",
    "\n",
    "import itertools"
   ]
  },
  {
   "cell_type": "code",
   "execution_count": 2,
   "metadata": {},
   "outputs": [],
   "source": [
    "def plotConfusionMatrix(cm, classes, normalize=False, title='Confusion Matrix', cmap=plt.cm.Blues):\n",
    "    plt.imshow(cm, interpolation='nearest', cmap=cmap)\n",
    "    plt.title(title)\n",
    "    plt.colorbar()\n",
    "    tick_marks=np.arange(len(classes))\n",
    "    \n",
    "    if normalize:\n",
    "        cm = cm.astype('float')/cm.sum(axis=1)[:, np.bewaxis]\n",
    "    thresh = cm.max()/2\n",
    "    plt.tight_layout()\n",
    "    plt.ylabel('True label')\n",
    "    plt.xlabel('Predict label')"
   ]
  },
  {
   "cell_type": "code",
   "execution_count": 3,
   "metadata": {},
   "outputs": [],
   "source": [
    "samples = np.load(\"data/olivetti_faces.npy\")\n",
    "labels = np.load(\"data/olivetti_faces_target.npy\")\n"
   ]
  },
  {
   "cell_type": "code",
   "execution_count": 4,
   "metadata": {},
   "outputs": [],
   "source": [
    "img_rows, img_cols = 64, 64\n",
    "\n",
    "if backend.image_data_format() == 'channels_first':\n",
    "    samples = samples.reshape(samples.shape[0],1,img_rows, img_cols)\n",
    "    input_shape=(1,img_rows, img_cols)\n",
    "else:\n",
    "    samples = samples.reshape(samples.shape[0], img_rows, img_cols, 1)\n",
    "    input_shape = (img_rows, img_cols, 1)\n",
    "labels = keras.utils.to_categorical(labels, 40)\n",
    "\n",
    "xTrain, xTest, yTrain, yTest = train_test_split(samples, labels, test_size=0.2)\n"
   ]
  },
  {
   "cell_type": "code",
   "execution_count": 5,
   "metadata": {},
   "outputs": [],
   "source": [
    "model = Sequential()"
   ]
  },
  {
   "cell_type": "code",
   "execution_count": 6,
   "metadata": {},
   "outputs": [
    {
     "name": "stdout",
     "output_type": "stream",
     "text": [
      "WARNING:tensorflow:From /home/pedro/.local/lib/python3.6/site-packages/keras/backend/tensorflow_backend.py:4070: The name tf.nn.max_pool is deprecated. Please use tf.nn.max_pool2d instead.\n",
      "\n"
     ]
    }
   ],
   "source": [
    "model.add(Conv2D(filters=64, kernel_size=(3,3), activation='relu', input_shape=input_shape))\n",
    "model.add(MaxPooling2D(pool_size=(2,2)))\n",
    "\n",
    "model.add(Conv2D(64, (3,3), activation='relu'))\n",
    "model.add(MaxPooling2D(pool_size=(2,2)))\n",
    "\n",
    "model.add(Flatten())\n",
    "model.add(Dense(40, activation='softmax'))"
   ]
  },
  {
   "cell_type": "code",
   "execution_count": 7,
   "metadata": {},
   "outputs": [
    {
     "name": "stdout",
     "output_type": "stream",
     "text": [
      "Model: \"sequential_1\"\n",
      "_________________________________________________________________\n",
      "Layer (type)                 Output Shape              Param #   \n",
      "=================================================================\n",
      "conv2d_1 (Conv2D)            (None, 62, 62, 64)        640       \n",
      "_________________________________________________________________\n",
      "max_pooling2d_1 (MaxPooling2 (None, 31, 31, 64)        0         \n",
      "_________________________________________________________________\n",
      "conv2d_2 (Conv2D)            (None, 29, 29, 64)        36928     \n",
      "_________________________________________________________________\n",
      "max_pooling2d_2 (MaxPooling2 (None, 14, 14, 64)        0         \n",
      "_________________________________________________________________\n",
      "flatten_1 (Flatten)          (None, 12544)             0         \n",
      "_________________________________________________________________\n",
      "dense_1 (Dense)              (None, 40)                501800    \n",
      "=================================================================\n",
      "Total params: 539,368\n",
      "Trainable params: 539,368\n",
      "Non-trainable params: 0\n",
      "_________________________________________________________________\n"
     ]
    }
   ],
   "source": [
    "model.summary()\n",
    "model.compile(loss='categorical_crossentropy', optimizer=\"adam\", metrics=['accuracy'])"
   ]
  },
  {
   "cell_type": "code",
   "execution_count": 8,
   "metadata": {},
   "outputs": [
    {
     "name": "stdout",
     "output_type": "stream",
     "text": [
      "WARNING:tensorflow:From /home/pedro/.local/lib/python3.6/site-packages/keras/backend/tensorflow_backend.py:422: The name tf.global_variables is deprecated. Please use tf.compat.v1.global_variables instead.\n",
      "\n",
      "Train on 320 samples, validate on 80 samples\n",
      "Epoch 1/100\n",
      "320/320 [==============================] - 1s 4ms/step - loss: 3.7155 - accuracy: 0.0281 - val_loss: 3.6882 - val_accuracy: 0.0000e+00\n",
      "Epoch 2/100\n",
      "320/320 [==============================] - 1s 4ms/step - loss: 3.6697 - accuracy: 0.0812 - val_loss: 3.7142 - val_accuracy: 0.0250\n",
      "Epoch 3/100\n",
      "320/320 [==============================] - 1s 4ms/step - loss: 3.6147 - accuracy: 0.0656 - val_loss: 3.7382 - val_accuracy: 0.0125\n",
      "Epoch 4/100\n",
      "320/320 [==============================] - 1s 4ms/step - loss: 3.4900 - accuracy: 0.1375 - val_loss: 3.5635 - val_accuracy: 0.1250\n",
      "Epoch 5/100\n",
      "320/320 [==============================] - 1s 4ms/step - loss: 3.1926 - accuracy: 0.4313 - val_loss: 3.1348 - val_accuracy: 0.4125\n",
      "Epoch 6/100\n",
      "320/320 [==============================] - 2s 5ms/step - loss: 2.5865 - accuracy: 0.7000 - val_loss: 2.2768 - val_accuracy: 0.6125\n",
      "Epoch 7/100\n",
      "320/320 [==============================] - 1s 4ms/step - loss: 1.5730 - accuracy: 0.8375 - val_loss: 1.2491 - val_accuracy: 0.7875\n",
      "Epoch 8/100\n",
      "320/320 [==============================] - 1s 4ms/step - loss: 0.7161 - accuracy: 0.9219 - val_loss: 0.7356 - val_accuracy: 0.8750\n",
      "Epoch 9/100\n",
      "320/320 [==============================] - 1s 5ms/step - loss: 0.3175 - accuracy: 0.9438 - val_loss: 0.4596 - val_accuracy: 0.8750\n",
      "Epoch 10/100\n",
      "320/320 [==============================] - 1s 4ms/step - loss: 0.1641 - accuracy: 0.9781 - val_loss: 0.3288 - val_accuracy: 0.9125\n",
      "Epoch 11/100\n",
      "320/320 [==============================] - 1s 4ms/step - loss: 0.0882 - accuracy: 0.9937 - val_loss: 0.2481 - val_accuracy: 0.9250\n",
      "Epoch 12/100\n",
      "320/320 [==============================] - 1s 4ms/step - loss: 0.0511 - accuracy: 1.0000 - val_loss: 0.2300 - val_accuracy: 0.9375\n",
      "Epoch 13/100\n",
      "320/320 [==============================] - 1s 4ms/step - loss: 0.0355 - accuracy: 0.9969 - val_loss: 0.2865 - val_accuracy: 0.9125\n",
      "Epoch 14/100\n",
      "320/320 [==============================] - 1s 4ms/step - loss: 0.0245 - accuracy: 1.0000 - val_loss: 0.1482 - val_accuracy: 0.9625\n",
      "Epoch 15/100\n",
      "320/320 [==============================] - 1s 4ms/step - loss: 0.0165 - accuracy: 1.0000 - val_loss: 0.1444 - val_accuracy: 0.9625\n",
      "Epoch 16/100\n",
      "320/320 [==============================] - 1s 4ms/step - loss: 0.0113 - accuracy: 1.0000 - val_loss: 0.1550 - val_accuracy: 0.9750\n",
      "Epoch 17/100\n",
      "320/320 [==============================] - 1s 4ms/step - loss: 0.0081 - accuracy: 1.0000 - val_loss: 0.1380 - val_accuracy: 0.9750\n",
      "Epoch 18/100\n",
      "320/320 [==============================] - 1s 4ms/step - loss: 0.0066 - accuracy: 1.0000 - val_loss: 0.1319 - val_accuracy: 0.9750\n",
      "Epoch 19/100\n",
      "320/320 [==============================] - 1s 4ms/step - loss: 0.0054 - accuracy: 1.0000 - val_loss: 0.1342 - val_accuracy: 0.9625\n",
      "Epoch 20/100\n",
      "320/320 [==============================] - 1s 4ms/step - loss: 0.0050 - accuracy: 1.0000 - val_loss: 0.1296 - val_accuracy: 0.9750\n",
      "Epoch 21/100\n",
      "320/320 [==============================] - 1s 4ms/step - loss: 0.0045 - accuracy: 1.0000 - val_loss: 0.1248 - val_accuracy: 0.9750\n",
      "Epoch 22/100\n",
      "320/320 [==============================] - 1s 4ms/step - loss: 0.0041 - accuracy: 1.0000 - val_loss: 0.1195 - val_accuracy: 0.9750\n",
      "Epoch 23/100\n",
      "320/320 [==============================] - 1s 4ms/step - loss: 0.0038 - accuracy: 1.0000 - val_loss: 0.1231 - val_accuracy: 0.9750\n",
      "Epoch 24/100\n",
      "320/320 [==============================] - 2s 5ms/step - loss: 0.0035 - accuracy: 1.0000 - val_loss: 0.1205 - val_accuracy: 0.9750\n",
      "Epoch 25/100\n",
      "320/320 [==============================] - 1s 4ms/step - loss: 0.0033 - accuracy: 1.0000 - val_loss: 0.1212 - val_accuracy: 0.9750\n",
      "Epoch 26/100\n",
      "320/320 [==============================] - 1s 4ms/step - loss: 0.0030 - accuracy: 1.0000 - val_loss: 0.1175 - val_accuracy: 0.9750\n",
      "Epoch 27/100\n",
      "320/320 [==============================] - 1s 4ms/step - loss: 0.0028 - accuracy: 1.0000 - val_loss: 0.1186 - val_accuracy: 0.9750\n",
      "Epoch 28/100\n",
      "320/320 [==============================] - 1s 4ms/step - loss: 0.0025 - accuracy: 1.0000 - val_loss: 0.1139 - val_accuracy: 0.9750\n",
      "Epoch 29/100\n",
      "320/320 [==============================] - 1s 4ms/step - loss: 0.0022 - accuracy: 1.0000 - val_loss: 0.1170 - val_accuracy: 0.9750\n",
      "Epoch 30/100\n",
      "320/320 [==============================] - 1s 4ms/step - loss: 0.0020 - accuracy: 1.0000 - val_loss: 0.1147 - val_accuracy: 0.9750\n",
      "Epoch 31/100\n",
      "320/320 [==============================] - 1s 4ms/step - loss: 0.0017 - accuracy: 1.0000 - val_loss: 0.1091 - val_accuracy: 0.9750\n",
      "Epoch 32/100\n",
      "320/320 [==============================] - 1s 4ms/step - loss: 0.0016 - accuracy: 1.0000 - val_loss: 0.1181 - val_accuracy: 0.9750\n",
      "Epoch 33/100\n",
      "320/320 [==============================] - 1s 4ms/step - loss: 0.0014 - accuracy: 1.0000 - val_loss: 0.1115 - val_accuracy: 0.9750\n",
      "Epoch 34/100\n",
      "320/320 [==============================] - 1s 4ms/step - loss: 0.0012 - accuracy: 1.0000 - val_loss: 0.1144 - val_accuracy: 0.9750\n",
      "Epoch 35/100\n",
      "320/320 [==============================] - 1s 4ms/step - loss: 0.0011 - accuracy: 1.0000 - val_loss: 0.1167 - val_accuracy: 0.9750\n",
      "Epoch 36/100\n",
      "320/320 [==============================] - 1s 4ms/step - loss: 9.3498e-04 - accuracy: 1.0000 - val_loss: 0.1151 - val_accuracy: 0.9625\n",
      "Epoch 37/100\n",
      "320/320 [==============================] - 1s 4ms/step - loss: 8.3615e-04 - accuracy: 1.0000 - val_loss: 0.1132 - val_accuracy: 0.9750\n",
      "Epoch 38/100\n",
      "320/320 [==============================] - 1s 4ms/step - loss: 7.4416e-04 - accuracy: 1.0000 - val_loss: 0.1152 - val_accuracy: 0.9625\n",
      "Epoch 39/100\n",
      "320/320 [==============================] - 1s 4ms/step - loss: 6.7044e-04 - accuracy: 1.0000 - val_loss: 0.1123 - val_accuracy: 0.9750\n",
      "Epoch 40/100\n",
      "320/320 [==============================] - 1s 4ms/step - loss: 6.1411e-04 - accuracy: 1.0000 - val_loss: 0.1176 - val_accuracy: 0.9625\n",
      "Epoch 41/100\n",
      "320/320 [==============================] - 1s 4ms/step - loss: 5.5428e-04 - accuracy: 1.0000 - val_loss: 0.1160 - val_accuracy: 0.9625\n",
      "Epoch 42/100\n",
      "320/320 [==============================] - 1s 4ms/step - loss: 5.1394e-04 - accuracy: 1.0000 - val_loss: 0.1149 - val_accuracy: 0.9625\n",
      "Epoch 43/100\n",
      "320/320 [==============================] - 1s 4ms/step - loss: 4.7369e-04 - accuracy: 1.0000 - val_loss: 0.1157 - val_accuracy: 0.9625\n",
      "Epoch 44/100\n",
      "320/320 [==============================] - 1s 4ms/step - loss: 4.2756e-04 - accuracy: 1.0000 - val_loss: 0.1132 - val_accuracy: 0.9625\n",
      "Epoch 45/100\n",
      "320/320 [==============================] - 1s 4ms/step - loss: 3.9273e-04 - accuracy: 1.0000 - val_loss: 0.1150 - val_accuracy: 0.9625\n",
      "Epoch 46/100\n",
      "320/320 [==============================] - 1s 4ms/step - loss: 3.6078e-04 - accuracy: 1.0000 - val_loss: 0.1170 - val_accuracy: 0.9625\n",
      "Epoch 47/100\n",
      "320/320 [==============================] - 1s 4ms/step - loss: 3.3709e-04 - accuracy: 1.0000 - val_loss: 0.1171 - val_accuracy: 0.9625\n",
      "Epoch 48/100\n",
      "320/320 [==============================] - 1s 4ms/step - loss: 3.1210e-04 - accuracy: 1.0000 - val_loss: 0.1169 - val_accuracy: 0.9625\n",
      "Epoch 49/100\n",
      "320/320 [==============================] - 1s 4ms/step - loss: 2.9243e-04 - accuracy: 1.0000 - val_loss: 0.1164 - val_accuracy: 0.9625\n",
      "Epoch 50/100\n",
      "320/320 [==============================] - 1s 4ms/step - loss: 2.7292e-04 - accuracy: 1.0000 - val_loss: 0.1174 - val_accuracy: 0.9625\n",
      "Epoch 51/100\n",
      "320/320 [==============================] - 1s 4ms/step - loss: 2.5653e-04 - accuracy: 1.0000 - val_loss: 0.1175 - val_accuracy: 0.9625\n",
      "Epoch 52/100\n",
      "320/320 [==============================] - 1s 4ms/step - loss: 2.3810e-04 - accuracy: 1.0000 - val_loss: 0.1180 - val_accuracy: 0.9625\n",
      "Epoch 53/100\n",
      "320/320 [==============================] - 1s 4ms/step - loss: 2.2641e-04 - accuracy: 1.0000 - val_loss: 0.1157 - val_accuracy: 0.9625\n",
      "Epoch 54/100\n",
      "320/320 [==============================] - 1s 4ms/step - loss: 2.1176e-04 - accuracy: 1.0000 - val_loss: 0.1181 - val_accuracy: 0.9625\n",
      "Epoch 55/100\n"
     ]
    },
    {
     "name": "stdout",
     "output_type": "stream",
     "text": [
      "320/320 [==============================] - 1s 4ms/step - loss: 1.9928e-04 - accuracy: 1.0000 - val_loss: 0.1204 - val_accuracy: 0.9625\n",
      "Epoch 56/100\n",
      "320/320 [==============================] - 1s 4ms/step - loss: 1.8968e-04 - accuracy: 1.0000 - val_loss: 0.1165 - val_accuracy: 0.9625\n",
      "Epoch 57/100\n",
      "320/320 [==============================] - 1s 4ms/step - loss: 1.7795e-04 - accuracy: 1.0000 - val_loss: 0.1174 - val_accuracy: 0.9625\n",
      "Epoch 58/100\n",
      "320/320 [==============================] - 1s 4ms/step - loss: 1.6889e-04 - accuracy: 1.0000 - val_loss: 0.1190 - val_accuracy: 0.9625\n",
      "Epoch 59/100\n",
      "320/320 [==============================] - 1s 4ms/step - loss: 1.6015e-04 - accuracy: 1.0000 - val_loss: 0.1167 - val_accuracy: 0.9625\n",
      "Epoch 60/100\n",
      "320/320 [==============================] - 1s 4ms/step - loss: 1.5157e-04 - accuracy: 1.0000 - val_loss: 0.1206 - val_accuracy: 0.9625\n",
      "Epoch 61/100\n",
      "320/320 [==============================] - 1s 4ms/step - loss: 1.4504e-04 - accuracy: 1.0000 - val_loss: 0.1214 - val_accuracy: 0.9625\n",
      "Epoch 62/100\n",
      "320/320 [==============================] - 1s 4ms/step - loss: 1.3781e-04 - accuracy: 1.0000 - val_loss: 0.1187 - val_accuracy: 0.9625\n",
      "Epoch 63/100\n",
      "320/320 [==============================] - 1s 4ms/step - loss: 1.3099e-04 - accuracy: 1.0000 - val_loss: 0.1174 - val_accuracy: 0.9625\n",
      "Epoch 64/100\n",
      "320/320 [==============================] - 1s 4ms/step - loss: 1.2499e-04 - accuracy: 1.0000 - val_loss: 0.1192 - val_accuracy: 0.9625\n",
      "Epoch 65/100\n",
      "320/320 [==============================] - 1s 4ms/step - loss: 1.2005e-04 - accuracy: 1.0000 - val_loss: 0.1200 - val_accuracy: 0.9625\n",
      "Epoch 66/100\n",
      "320/320 [==============================] - 1s 4ms/step - loss: 1.1510e-04 - accuracy: 1.0000 - val_loss: 0.1177 - val_accuracy: 0.9625\n",
      "Epoch 67/100\n",
      "320/320 [==============================] - 1s 4ms/step - loss: 1.0912e-04 - accuracy: 1.0000 - val_loss: 0.1217 - val_accuracy: 0.9625\n",
      "Epoch 68/100\n",
      "320/320 [==============================] - 1s 4ms/step - loss: 1.0458e-04 - accuracy: 1.0000 - val_loss: 0.1207 - val_accuracy: 0.9625\n",
      "Epoch 69/100\n",
      "320/320 [==============================] - 1s 4ms/step - loss: 1.0021e-04 - accuracy: 1.0000 - val_loss: 0.1190 - val_accuracy: 0.9625\n",
      "Epoch 70/100\n",
      "320/320 [==============================] - 1s 4ms/step - loss: 9.5737e-05 - accuracy: 1.0000 - val_loss: 0.1205 - val_accuracy: 0.9625\n",
      "Epoch 71/100\n",
      "320/320 [==============================] - 1s 4ms/step - loss: 9.2439e-05 - accuracy: 1.0000 - val_loss: 0.1200 - val_accuracy: 0.9625\n",
      "Epoch 72/100\n",
      "320/320 [==============================] - 1s 4ms/step - loss: 8.8427e-05 - accuracy: 1.0000 - val_loss: 0.1190 - val_accuracy: 0.9625\n",
      "Epoch 73/100\n",
      "320/320 [==============================] - 1s 4ms/step - loss: 8.5763e-05 - accuracy: 1.0000 - val_loss: 0.1196 - val_accuracy: 0.9625\n",
      "Epoch 74/100\n",
      "320/320 [==============================] - 1s 4ms/step - loss: 8.2064e-05 - accuracy: 1.0000 - val_loss: 0.1210 - val_accuracy: 0.9625\n",
      "Epoch 75/100\n",
      "320/320 [==============================] - 1s 4ms/step - loss: 7.9020e-05 - accuracy: 1.0000 - val_loss: 0.1217 - val_accuracy: 0.9625\n",
      "Epoch 76/100\n",
      "320/320 [==============================] - 1s 4ms/step - loss: 7.6021e-05 - accuracy: 1.0000 - val_loss: 0.1199 - val_accuracy: 0.9625\n",
      "Epoch 77/100\n",
      "320/320 [==============================] - 1s 4ms/step - loss: 7.3316e-05 - accuracy: 1.0000 - val_loss: 0.1227 - val_accuracy: 0.9625\n",
      "Epoch 78/100\n",
      "320/320 [==============================] - 1s 4ms/step - loss: 7.0569e-05 - accuracy: 1.0000 - val_loss: 0.1215 - val_accuracy: 0.9625\n",
      "Epoch 79/100\n",
      "320/320 [==============================] - 1s 4ms/step - loss: 6.8071e-05 - accuracy: 1.0000 - val_loss: 0.1226 - val_accuracy: 0.9625\n",
      "Epoch 80/100\n",
      "320/320 [==============================] - 1s 4ms/step - loss: 6.5597e-05 - accuracy: 1.0000 - val_loss: 0.1201 - val_accuracy: 0.9625\n",
      "Epoch 81/100\n",
      "320/320 [==============================] - 1s 4ms/step - loss: 6.3233e-05 - accuracy: 1.0000 - val_loss: 0.1200 - val_accuracy: 0.9625\n",
      "Epoch 82/100\n",
      "320/320 [==============================] - 1s 4ms/step - loss: 6.1183e-05 - accuracy: 1.0000 - val_loss: 0.1202 - val_accuracy: 0.9625\n",
      "Epoch 83/100\n",
      "320/320 [==============================] - 1s 4ms/step - loss: 5.8970e-05 - accuracy: 1.0000 - val_loss: 0.1216 - val_accuracy: 0.9625\n",
      "Epoch 84/100\n",
      "320/320 [==============================] - 1s 4ms/step - loss: 5.7230e-05 - accuracy: 1.0000 - val_loss: 0.1219 - val_accuracy: 0.9625\n",
      "Epoch 85/100\n",
      "320/320 [==============================] - 1s 4ms/step - loss: 5.5398e-05 - accuracy: 1.0000 - val_loss: 0.1219 - val_accuracy: 0.9625\n",
      "Epoch 86/100\n",
      "320/320 [==============================] - 1s 4ms/step - loss: 5.3641e-05 - accuracy: 1.0000 - val_loss: 0.1208 - val_accuracy: 0.9625\n",
      "Epoch 87/100\n",
      "320/320 [==============================] - 2s 5ms/step - loss: 5.2191e-05 - accuracy: 1.0000 - val_loss: 0.1203 - val_accuracy: 0.9625\n",
      "Epoch 88/100\n",
      "320/320 [==============================] - 1s 4ms/step - loss: 5.0222e-05 - accuracy: 1.0000 - val_loss: 0.1231 - val_accuracy: 0.9625\n",
      "Epoch 89/100\n",
      "320/320 [==============================] - 1s 5ms/step - loss: 4.8971e-05 - accuracy: 1.0000 - val_loss: 0.1231 - val_accuracy: 0.9625\n",
      "Epoch 90/100\n",
      "320/320 [==============================] - 1s 4ms/step - loss: 4.7291e-05 - accuracy: 1.0000 - val_loss: 0.1230 - val_accuracy: 0.9625\n",
      "Epoch 91/100\n",
      "320/320 [==============================] - 1s 4ms/step - loss: 4.5987e-05 - accuracy: 1.0000 - val_loss: 0.1218 - val_accuracy: 0.9625\n",
      "Epoch 92/100\n",
      "320/320 [==============================] - 1s 4ms/step - loss: 4.4658e-05 - accuracy: 1.0000 - val_loss: 0.1221 - val_accuracy: 0.9625\n",
      "Epoch 93/100\n",
      "320/320 [==============================] - 1s 4ms/step - loss: 4.3400e-05 - accuracy: 1.0000 - val_loss: 0.1213 - val_accuracy: 0.9625\n",
      "Epoch 94/100\n",
      "320/320 [==============================] - 1s 4ms/step - loss: 4.2065e-05 - accuracy: 1.0000 - val_loss: 0.1217 - val_accuracy: 0.9625\n",
      "Epoch 95/100\n",
      "320/320 [==============================] - 1s 5ms/step - loss: 4.0847e-05 - accuracy: 1.0000 - val_loss: 0.1217 - val_accuracy: 0.9625\n",
      "Epoch 96/100\n",
      "320/320 [==============================] - 2s 6ms/step - loss: 3.9725e-05 - accuracy: 1.0000 - val_loss: 0.1220 - val_accuracy: 0.9625\n",
      "Epoch 97/100\n",
      "320/320 [==============================] - 1s 5ms/step - loss: 3.8734e-05 - accuracy: 1.0000 - val_loss: 0.1229 - val_accuracy: 0.9625\n",
      "Epoch 98/100\n",
      "320/320 [==============================] - 1s 4ms/step - loss: 3.7731e-05 - accuracy: 1.0000 - val_loss: 0.1229 - val_accuracy: 0.9625\n",
      "Epoch 99/100\n",
      "320/320 [==============================] - 1s 4ms/step - loss: 3.6617e-05 - accuracy: 1.0000 - val_loss: 0.1233 - val_accuracy: 0.9625\n",
      "Epoch 100/100\n",
      "320/320 [==============================] - 1s 4ms/step - loss: 3.5767e-05 - accuracy: 1.0000 - val_loss: 0.1242 - val_accuracy: 0.9625\n"
     ]
    }
   ],
   "source": [
    "history = model.fit(xTrain, yTrain, batch_size=32, epochs=100, validation_data=(xTest, yTest))"
   ]
  },
  {
   "cell_type": "code",
   "execution_count": 9,
   "metadata": {},
   "outputs": [
    {
     "name": "stdout",
     "output_type": "stream",
     "text": [
      "400/400 [==============================] - 0s 933us/step\n"
     ]
    },
    {
     "name": "stderr",
     "output_type": "stream",
     "text": [
      "/home/pedro/.local/lib/python3.6/site-packages/pandas/plotting/_matplotlib/tools.py:298: MatplotlibDeprecationWarning: \n",
      "The rowNum attribute was deprecated in Matplotlib 3.2 and will be removed two minor releases later. Use ax.get_subplotspec().rowspan.start instead.\n",
      "  layout[ax.rowNum, ax.colNum] = ax.get_visible()\n",
      "/home/pedro/.local/lib/python3.6/site-packages/pandas/plotting/_matplotlib/tools.py:298: MatplotlibDeprecationWarning: \n",
      "The colNum attribute was deprecated in Matplotlib 3.2 and will be removed two minor releases later. Use ax.get_subplotspec().colspan.start instead.\n",
      "  layout[ax.rowNum, ax.colNum] = ax.get_visible()\n",
      "/home/pedro/.local/lib/python3.6/site-packages/pandas/plotting/_matplotlib/tools.py:304: MatplotlibDeprecationWarning: \n",
      "The rowNum attribute was deprecated in Matplotlib 3.2 and will be removed two minor releases later. Use ax.get_subplotspec().rowspan.start instead.\n",
      "  if not layout[ax.rowNum + 1, ax.colNum]:\n",
      "/home/pedro/.local/lib/python3.6/site-packages/pandas/plotting/_matplotlib/tools.py:304: MatplotlibDeprecationWarning: \n",
      "The colNum attribute was deprecated in Matplotlib 3.2 and will be removed two minor releases later. Use ax.get_subplotspec().colspan.start instead.\n",
      "  if not layout[ax.rowNum + 1, ax.colNum]:\n",
      "/home/pedro/.local/lib/python3.6/site-packages/pandas/plotting/_matplotlib/tools.py:298: MatplotlibDeprecationWarning: \n",
      "The rowNum attribute was deprecated in Matplotlib 3.2 and will be removed two minor releases later. Use ax.get_subplotspec().rowspan.start instead.\n",
      "  layout[ax.rowNum, ax.colNum] = ax.get_visible()\n",
      "/home/pedro/.local/lib/python3.6/site-packages/pandas/plotting/_matplotlib/tools.py:298: MatplotlibDeprecationWarning: \n",
      "The colNum attribute was deprecated in Matplotlib 3.2 and will be removed two minor releases later. Use ax.get_subplotspec().colspan.start instead.\n",
      "  layout[ax.rowNum, ax.colNum] = ax.get_visible()\n",
      "/home/pedro/.local/lib/python3.6/site-packages/pandas/plotting/_matplotlib/tools.py:304: MatplotlibDeprecationWarning: \n",
      "The rowNum attribute was deprecated in Matplotlib 3.2 and will be removed two minor releases later. Use ax.get_subplotspec().rowspan.start instead.\n",
      "  if not layout[ax.rowNum + 1, ax.colNum]:\n",
      "/home/pedro/.local/lib/python3.6/site-packages/pandas/plotting/_matplotlib/tools.py:304: MatplotlibDeprecationWarning: \n",
      "The colNum attribute was deprecated in Matplotlib 3.2 and will be removed two minor releases later. Use ax.get_subplotspec().colspan.start instead.\n",
      "  if not layout[ax.rowNum + 1, ax.colNum]:\n"
     ]
    },
    {
     "data": {
      "image/png": "[encoded data removed]",
      "text/plain": [
       "<Figure size 864x576 with 2 Axes>"
      ]
     },
     "metadata": {
      "needs_background": "light"
     },
     "output_type": "display_data"
    }
   ],
   "source": [
    "accuracy = model.evaluate(samples, labels)\n",
    "mhistory = pd.DataFrame()\n",
    "mhistory['Train Loss'] = history.history['loss']\n",
    "mhistory['Validation Loss'] = history.history['val_loss']\n",
    "mhistory['Train Accuracy'] = history.history['accuracy']\n",
    "mhistory['Validation Accuracy'] = history.history['val_accuracy']\n",
    "\n",
    "fig, axarr = plt.subplots(nrows=2, ncols=1, figsize=(12,8))\n",
    "axarr[0].set_title(\"History of Loss in Train and Validation Datasets\")\n",
    "mhistory[[\"Train Loss\", \"Validation Loss\"]].plot(ax=axarr[0])\n",
    "axarr[1].set_title(\"History of Accuracy in Train and Validation Datasets\")\n",
    "mhistory[[\"Train Accuracy\", \"Validation Accuracy\"]].plot(ax=axarr[1])\n",
    "plt.show()"
   ]
  },
  {
   "cell_type": "code",
   "execution_count": 10,
   "metadata": {},
   "outputs": [
    {
     "data": {
      "image/png": "[encoded data removed]",
      "text/plain": [
       "<Figure size 432x288 with 2 Axes>"
      ]
     },
     "metadata": {
      "needs_background": "light"
     },
     "output_type": "display_data"
    }
   ],
   "source": [
    "testLables = [str(i) for i in range(0, 40)]\n",
    "predictions = model.predict(xTrain, batch_size=10, verbose=0)\n",
    "rPredictions = model.predict_classes(xTest, batch_size=10, verbose=0)\n",
    "rLabels = np.argmax(yTest, axis=1)\n",
    "confusionMatrix = confusion_matrix(rLabels, rPredictions)\n",
    "plotConfusionMatrix(confusionMatrix, testLables)"
   ]
  },
  {
   "cell_type": "code",
   "execution_count": 11,
   "metadata": {},
   "outputs": [
    {
     "name": "stdout",
     "output_type": "stream",
     "text": [
      "Test loss:  0.12419429114088416\n",
      "Test accuracy:  0.9624999761581421\n"
     ]
    }
   ],
   "source": [
    "score = model.evaluate(xTest, yTest, verbose=0)\n",
    "\n",
    "print('Test loss: ', score[0])\n",
    "print('Test accuracy: ', score[1])"
   ]
  },
  {
   "cell_type": "code",
   "execution_count": 12,
   "metadata": {},
   "outputs": [],
   "source": [
    "model = Sequential()"
   ]
  },
  {
   "cell_type": "code",
   "execution_count": 13,
   "metadata": {},
   "outputs": [],
   "source": [
    "model.add(Conv2D(filters=64, kernel_size=(3,3), activation='relu', input_shape=input_shape))\n",
    "model.add(MaxPooling2D(pool_size=(2,2)))\n",
    "model.add(Dropout(0.5))\n",
    "\n",
    "model.add(Conv2D(64, (3,3), activation='relu'))\n",
    "model.add(MaxPooling2D(pool_size=(2,2)))\n",
    "model.add(Dropout(0.5))\n",
    "\n",
    "model.add(Flatten())\n",
    "model.add(Dense(40, activation='softmax'))"
   ]
  },
  {
   "cell_type": "code",
   "execution_count": 14,
   "metadata": {},
   "outputs": [
    {
     "name": "stdout",
     "output_type": "stream",
     "text": [
      "Model: \"sequential_2\"\n",
      "_________________________________________________________________\n",
      "Layer (type)                 Output Shape              Param #   \n",
      "=================================================================\n",
      "conv2d_3 (Conv2D)            (None, 62, 62, 64)        640       \n",
      "_________________________________________________________________\n",
      "max_pooling2d_3 (MaxPooling2 (None, 31, 31, 64)        0         \n",
      "_________________________________________________________________\n",
      "dropout_1 (Dropout)          (None, 31, 31, 64)        0         \n",
      "_________________________________________________________________\n",
      "conv2d_4 (Conv2D)            (None, 29, 29, 64)        36928     \n",
      "_________________________________________________________________\n",
      "max_pooling2d_4 (MaxPooling2 (None, 14, 14, 64)        0         \n",
      "_________________________________________________________________\n",
      "dropout_2 (Dropout)          (None, 14, 14, 64)        0         \n",
      "_________________________________________________________________\n",
      "flatten_2 (Flatten)          (None, 12544)             0         \n",
      "_________________________________________________________________\n",
      "dense_2 (Dense)              (None, 40)                501800    \n",
      "=================================================================\n",
      "Total params: 539,368\n",
      "Trainable params: 539,368\n",
      "Non-trainable params: 0\n",
      "_________________________________________________________________\n"
     ]
    }
   ],
   "source": [
    "model.summary()\n",
    "model.compile(loss='categorical_crossentropy', optimizer=\"adam\", metrics=['accuracy'])"
   ]
  },
  {
   "cell_type": "code",
   "execution_count": 15,
   "metadata": {},
   "outputs": [
    {
     "name": "stdout",
     "output_type": "stream",
     "text": [
      "Train on 320 samples, validate on 80 samples\n",
      "Epoch 1/100\n",
      "320/320 [==============================] - 2s 5ms/step - loss: 3.7925 - accuracy: 0.0125 - val_loss: 3.6904 - val_accuracy: 0.0125\n",
      "Epoch 2/100\n",
      "320/320 [==============================] - 2s 5ms/step - loss: 3.6809 - accuracy: 0.0375 - val_loss: 3.6909 - val_accuracy: 0.0000e+00\n",
      "Epoch 3/100\n",
      "320/320 [==============================] - 2s 5ms/step - loss: 3.6848 - accuracy: 0.0469 - val_loss: 3.7353 - val_accuracy: 0.0000e+00\n",
      "Epoch 4/100\n",
      "320/320 [==============================] - 2s 5ms/step - loss: 3.6624 - accuracy: 0.0281 - val_loss: 3.7088 - val_accuracy: 0.0000e+00\n",
      "Epoch 5/100\n",
      "320/320 [==============================] - 2s 5ms/step - loss: 3.6465 - accuracy: 0.0469 - val_loss: 3.7122 - val_accuracy: 0.0125\n",
      "Epoch 6/100\n",
      "320/320 [==============================] - 1s 5ms/step - loss: 3.5960 - accuracy: 0.1063 - val_loss: 3.7086 - val_accuracy: 0.0375\n",
      "Epoch 7/100\n",
      "320/320 [==============================] - 2s 5ms/step - loss: 3.5421 - accuracy: 0.0938 - val_loss: 3.6508 - val_accuracy: 0.1125\n",
      "Epoch 8/100\n",
      "320/320 [==============================] - 2s 5ms/step - loss: 3.4011 - accuracy: 0.2250 - val_loss: 3.4200 - val_accuracy: 0.2875\n",
      "Epoch 9/100\n",
      "320/320 [==============================] - 1s 5ms/step - loss: 3.1346 - accuracy: 0.2750 - val_loss: 3.0494 - val_accuracy: 0.4000\n",
      "Epoch 10/100\n",
      "320/320 [==============================] - 1s 5ms/step - loss: 2.6803 - accuracy: 0.3875 - val_loss: 2.5465 - val_accuracy: 0.5875\n",
      "Epoch 11/100\n",
      "320/320 [==============================] - 2s 5ms/step - loss: 2.0151 - accuracy: 0.5719 - val_loss: 1.9108 - val_accuracy: 0.6125\n",
      "Epoch 12/100\n",
      "320/320 [==============================] - 1s 5ms/step - loss: 1.4126 - accuracy: 0.7281 - val_loss: 1.4588 - val_accuracy: 0.6750\n",
      "Epoch 13/100\n",
      "320/320 [==============================] - 2s 5ms/step - loss: 0.9741 - accuracy: 0.7656 - val_loss: 1.0008 - val_accuracy: 0.7875\n",
      "Epoch 14/100\n",
      "320/320 [==============================] - 2s 5ms/step - loss: 0.8075 - accuracy: 0.8094 - val_loss: 1.0014 - val_accuracy: 0.7375\n",
      "Epoch 15/100\n",
      "320/320 [==============================] - 2s 6ms/step - loss: 0.5726 - accuracy: 0.8625 - val_loss: 0.6611 - val_accuracy: 0.9000\n",
      "Epoch 16/100\n",
      "320/320 [==============================] - 2s 5ms/step - loss: 0.3893 - accuracy: 0.9094 - val_loss: 0.6466 - val_accuracy: 0.7875\n",
      "Epoch 17/100\n",
      "320/320 [==============================] - 2s 5ms/step - loss: 0.2831 - accuracy: 0.9312 - val_loss: 0.4049 - val_accuracy: 0.8875\n",
      "Epoch 18/100\n",
      "320/320 [==============================] - 2s 5ms/step - loss: 0.2771 - accuracy: 0.9281 - val_loss: 0.5104 - val_accuracy: 0.8500\n",
      "Epoch 19/100\n",
      "320/320 [==============================] - 2s 5ms/step - loss: 0.2007 - accuracy: 0.9594 - val_loss: 0.3417 - val_accuracy: 0.9500\n",
      "Epoch 20/100\n",
      "320/320 [==============================] - 2s 5ms/step - loss: 0.1938 - accuracy: 0.9563 - val_loss: 0.3325 - val_accuracy: 0.9500\n",
      "Epoch 21/100\n",
      "320/320 [==============================] - 2s 5ms/step - loss: 0.1558 - accuracy: 0.9625 - val_loss: 0.3026 - val_accuracy: 0.9125\n",
      "Epoch 22/100\n",
      "320/320 [==============================] - 2s 5ms/step - loss: 0.1472 - accuracy: 0.9781 - val_loss: 0.2358 - val_accuracy: 0.9500\n",
      "Epoch 23/100\n",
      "320/320 [==============================] - 2s 5ms/step - loss: 0.1236 - accuracy: 0.9656 - val_loss: 0.2911 - val_accuracy: 0.9000\n",
      "Epoch 24/100\n",
      "320/320 [==============================] - 2s 5ms/step - loss: 0.0821 - accuracy: 0.9875 - val_loss: 0.2050 - val_accuracy: 0.9625\n",
      "Epoch 25/100\n",
      "320/320 [==============================] - 2s 5ms/step - loss: 0.0874 - accuracy: 0.9750 - val_loss: 0.2126 - val_accuracy: 0.9375\n",
      "Epoch 26/100\n",
      "320/320 [==============================] - 2s 5ms/step - loss: 0.0926 - accuracy: 0.9719 - val_loss: 0.2139 - val_accuracy: 0.9375\n",
      "Epoch 27/100\n",
      "320/320 [==============================] - 2s 5ms/step - loss: 0.0616 - accuracy: 0.9844 - val_loss: 0.1776 - val_accuracy: 0.9375\n",
      "Epoch 28/100\n",
      "320/320 [==============================] - 2s 5ms/step - loss: 0.0659 - accuracy: 0.9906 - val_loss: 0.2096 - val_accuracy: 0.9500\n",
      "Epoch 29/100\n",
      "320/320 [==============================] - 2s 5ms/step - loss: 0.0368 - accuracy: 0.9969 - val_loss: 0.1760 - val_accuracy: 0.9250\n",
      "Epoch 30/100\n",
      "320/320 [==============================] - 3s 8ms/step - loss: 0.0542 - accuracy: 0.9969 - val_loss: 0.1308 - val_accuracy: 0.9625\n",
      "Epoch 31/100\n",
      "320/320 [==============================] - 2s 5ms/step - loss: 0.0331 - accuracy: 0.9969 - val_loss: 0.1351 - val_accuracy: 0.9500\n",
      "Epoch 32/100\n",
      "320/320 [==============================] - 3s 8ms/step - loss: 0.0675 - accuracy: 0.9906 - val_loss: 0.1456 - val_accuracy: 0.9625\n",
      "Epoch 33/100\n",
      "320/320 [==============================] - 2s 6ms/step - loss: 0.0546 - accuracy: 0.9875 - val_loss: 0.1927 - val_accuracy: 0.9500\n",
      "Epoch 34/100\n",
      "320/320 [==============================] - 4s 11ms/step - loss: 0.0346 - accuracy: 1.0000 - val_loss: 0.1659 - val_accuracy: 0.9500\n",
      "Epoch 35/100\n",
      "320/320 [==============================] - 3s 9ms/step - loss: 0.0345 - accuracy: 0.9906 - val_loss: 0.1081 - val_accuracy: 0.9625\n",
      "Epoch 36/100\n",
      "320/320 [==============================] - 3s 9ms/step - loss: 0.0157 - accuracy: 1.0000 - val_loss: 0.0912 - val_accuracy: 0.9750\n",
      "Epoch 37/100\n",
      "320/320 [==============================] - 3s 10ms/step - loss: 0.0180 - accuracy: 0.9969 - val_loss: 0.0827 - val_accuracy: 0.9625\n",
      "Epoch 38/100\n",
      "320/320 [==============================] - 3s 8ms/step - loss: 0.0264 - accuracy: 0.9969 - val_loss: 0.1392 - val_accuracy: 0.9625\n",
      "Epoch 39/100\n",
      "320/320 [==============================] - 3s 9ms/step - loss: 0.0172 - accuracy: 1.0000 - val_loss: 0.1411 - val_accuracy: 0.9500\n",
      "Epoch 40/100\n",
      "320/320 [==============================] - 2s 8ms/step - loss: 0.0266 - accuracy: 0.9937 - val_loss: 0.0996 - val_accuracy: 0.9625\n",
      "Epoch 41/100\n",
      "320/320 [==============================] - 3s 8ms/step - loss: 0.0184 - accuracy: 0.9969 - val_loss: 0.1147 - val_accuracy: 0.9750\n",
      "Epoch 42/100\n",
      "320/320 [==============================] - 2s 7ms/step - loss: 0.0120 - accuracy: 1.0000 - val_loss: 0.1107 - val_accuracy: 0.9625\n",
      "Epoch 43/100\n",
      "320/320 [==============================] - 3s 9ms/step - loss: 0.0120 - accuracy: 0.9969 - val_loss: 0.0942 - val_accuracy: 0.9625\n",
      "Epoch 44/100\n",
      "320/320 [==============================] - 2s 7ms/step - loss: 0.0122 - accuracy: 0.9969 - val_loss: 0.0895 - val_accuracy: 0.9750\n",
      "Epoch 45/100\n",
      "320/320 [==============================] - 2s 6ms/step - loss: 0.0105 - accuracy: 1.0000 - val_loss: 0.0725 - val_accuracy: 0.9750\n",
      "Epoch 46/100\n",
      "320/320 [==============================] - 2s 5ms/step - loss: 0.0090 - accuracy: 1.0000 - val_loss: 0.0653 - val_accuracy: 0.9625\n",
      "Epoch 47/100\n",
      "320/320 [==============================] - 2s 7ms/step - loss: 0.0103 - accuracy: 0.9969 - val_loss: 0.0571 - val_accuracy: 0.9750\n",
      "Epoch 48/100\n",
      "320/320 [==============================] - 2s 7ms/step - loss: 0.0107 - accuracy: 0.9969 - val_loss: 0.0634 - val_accuracy: 0.9750\n",
      "Epoch 49/100\n",
      "320/320 [==============================] - 2s 5ms/step - loss: 0.0121 - accuracy: 0.9969 - val_loss: 0.0960 - val_accuracy: 0.9750\n",
      "Epoch 50/100\n",
      "320/320 [==============================] - 2s 6ms/step - loss: 0.0090 - accuracy: 1.0000 - val_loss: 0.0671 - val_accuracy: 0.9750\n",
      "Epoch 51/100\n",
      "320/320 [==============================] - 2s 5ms/step - loss: 0.0084 - accuracy: 1.0000 - val_loss: 0.0583 - val_accuracy: 0.9750\n",
      "Epoch 52/100\n",
      "320/320 [==============================] - 2s 6ms/step - loss: 0.0113 - accuracy: 0.9969 - val_loss: 0.0952 - val_accuracy: 0.9625\n",
      "Epoch 53/100\n",
      "320/320 [==============================] - 2s 5ms/step - loss: 0.0215 - accuracy: 0.9969 - val_loss: 0.1026 - val_accuracy: 0.9625\n",
      "Epoch 54/100\n",
      "320/320 [==============================] - 2s 6ms/step - loss: 0.0135 - accuracy: 0.9969 - val_loss: 0.1040 - val_accuracy: 0.9750\n",
      "Epoch 55/100\n",
      "320/320 [==============================] - 2s 7ms/step - loss: 0.0067 - accuracy: 1.0000 - val_loss: 0.1191 - val_accuracy: 0.9750\n",
      "Epoch 56/100\n",
      "320/320 [==============================] - 2s 6ms/step - loss: 0.0068 - accuracy: 1.0000 - val_loss: 0.1001 - val_accuracy: 0.9625\n",
      "Epoch 57/100\n"
     ]
    },
    {
     "name": "stdout",
     "output_type": "stream",
     "text": [
      "320/320 [==============================] - 2s 5ms/step - loss: 0.0055 - accuracy: 1.0000 - val_loss: 0.0922 - val_accuracy: 0.9625\n",
      "Epoch 58/100\n",
      "320/320 [==============================] - 2s 7ms/step - loss: 0.0048 - accuracy: 1.0000 - val_loss: 0.0851 - val_accuracy: 0.9625\n",
      "Epoch 59/100\n",
      "320/320 [==============================] - 2s 7ms/step - loss: 0.0029 - accuracy: 1.0000 - val_loss: 0.0694 - val_accuracy: 0.9750\n",
      "Epoch 60/100\n",
      "320/320 [==============================] - 2s 6ms/step - loss: 0.0023 - accuracy: 1.0000 - val_loss: 0.0719 - val_accuracy: 0.9750\n",
      "Epoch 61/100\n",
      "320/320 [==============================] - 2s 6ms/step - loss: 0.0031 - accuracy: 1.0000 - val_loss: 0.0736 - val_accuracy: 0.9750\n",
      "Epoch 62/100\n",
      "320/320 [==============================] - 2s 6ms/step - loss: 0.0045 - accuracy: 1.0000 - val_loss: 0.0719 - val_accuracy: 0.9750\n",
      "Epoch 63/100\n",
      "320/320 [==============================] - 2s 7ms/step - loss: 0.0031 - accuracy: 1.0000 - val_loss: 0.0722 - val_accuracy: 0.9750\n",
      "Epoch 64/100\n",
      "320/320 [==============================] - 2s 5ms/step - loss: 0.0033 - accuracy: 1.0000 - val_loss: 0.0723 - val_accuracy: 0.9750\n",
      "Epoch 65/100\n",
      "320/320 [==============================] - 2s 6ms/step - loss: 0.0032 - accuracy: 1.0000 - val_loss: 0.0730 - val_accuracy: 0.9750\n",
      "Epoch 66/100\n",
      "320/320 [==============================] - 2s 6ms/step - loss: 0.0087 - accuracy: 0.9969 - val_loss: 0.0476 - val_accuracy: 0.9875\n",
      "Epoch 67/100\n",
      "320/320 [==============================] - 3s 8ms/step - loss: 0.0043 - accuracy: 1.0000 - val_loss: 0.0696 - val_accuracy: 0.9750\n",
      "Epoch 68/100\n",
      "320/320 [==============================] - 2s 7ms/step - loss: 0.0018 - accuracy: 1.0000 - val_loss: 0.0897 - val_accuracy: 0.9750\n",
      "Epoch 69/100\n",
      "320/320 [==============================] - 2s 7ms/step - loss: 0.0039 - accuracy: 1.0000 - val_loss: 0.0988 - val_accuracy: 0.9625\n",
      "Epoch 70/100\n",
      "320/320 [==============================] - 2s 6ms/step - loss: 0.0027 - accuracy: 1.0000 - val_loss: 0.0974 - val_accuracy: 0.9625\n",
      "Epoch 71/100\n",
      "320/320 [==============================] - 2s 7ms/step - loss: 0.0042 - accuracy: 1.0000 - val_loss: 0.0844 - val_accuracy: 0.9750\n",
      "Epoch 72/100\n",
      "320/320 [==============================] - 2s 6ms/step - loss: 0.0046 - accuracy: 1.0000 - val_loss: 0.0718 - val_accuracy: 0.9625\n",
      "Epoch 73/100\n",
      "320/320 [==============================] - 2s 5ms/step - loss: 0.0044 - accuracy: 1.0000 - val_loss: 0.0981 - val_accuracy: 0.9625\n",
      "Epoch 74/100\n",
      "320/320 [==============================] - 2s 6ms/step - loss: 0.0035 - accuracy: 1.0000 - val_loss: 0.0926 - val_accuracy: 0.9750\n",
      "Epoch 75/100\n",
      "320/320 [==============================] - 2s 6ms/step - loss: 0.0019 - accuracy: 1.0000 - val_loss: 0.0759 - val_accuracy: 0.9750\n",
      "Epoch 76/100\n",
      "320/320 [==============================] - 2s 8ms/step - loss: 0.0018 - accuracy: 1.0000 - val_loss: 0.0730 - val_accuracy: 0.9750\n",
      "Epoch 77/100\n",
      "320/320 [==============================] - 2s 7ms/step - loss: 0.0012 - accuracy: 1.0000 - val_loss: 0.0762 - val_accuracy: 0.9750\n",
      "Epoch 78/100\n",
      "320/320 [==============================] - 2s 6ms/step - loss: 0.0017 - accuracy: 1.0000 - val_loss: 0.0807 - val_accuracy: 0.9750\n",
      "Epoch 79/100\n",
      "320/320 [==============================] - 2s 6ms/step - loss: 0.0024 - accuracy: 1.0000 - val_loss: 0.0812 - val_accuracy: 0.9750\n",
      "Epoch 80/100\n",
      "320/320 [==============================] - 2s 5ms/step - loss: 0.0012 - accuracy: 1.0000 - val_loss: 0.0823 - val_accuracy: 0.9625\n",
      "Epoch 81/100\n",
      "320/320 [==============================] - 2s 5ms/step - loss: 0.0011 - accuracy: 1.0000 - val_loss: 0.0754 - val_accuracy: 0.9625\n",
      "Epoch 82/100\n",
      "320/320 [==============================] - 2s 5ms/step - loss: 6.9884e-04 - accuracy: 1.0000 - val_loss: 0.0715 - val_accuracy: 0.9625\n",
      "Epoch 83/100\n",
      "320/320 [==============================] - 2s 5ms/step - loss: 0.0012 - accuracy: 1.0000 - val_loss: 0.0698 - val_accuracy: 0.9750\n",
      "Epoch 84/100\n",
      "320/320 [==============================] - 2s 5ms/step - loss: 0.0016 - accuracy: 1.0000 - val_loss: 0.0746 - val_accuracy: 0.9750\n",
      "Epoch 85/100\n",
      "320/320 [==============================] - 2s 5ms/step - loss: 0.0010 - accuracy: 1.0000 - val_loss: 0.0759 - val_accuracy: 0.9750\n",
      "Epoch 86/100\n",
      "320/320 [==============================] - 2s 5ms/step - loss: 0.0042 - accuracy: 1.0000 - val_loss: 0.0654 - val_accuracy: 0.9750\n",
      "Epoch 87/100\n",
      "320/320 [==============================] - 2s 5ms/step - loss: 0.0023 - accuracy: 1.0000 - val_loss: 0.0532 - val_accuracy: 0.9750\n",
      "Epoch 88/100\n",
      "320/320 [==============================] - 3s 9ms/step - loss: 0.0016 - accuracy: 1.0000 - val_loss: 0.0528 - val_accuracy: 0.9750\n",
      "Epoch 89/100\n",
      "320/320 [==============================] - 4s 11ms/step - loss: 0.0014 - accuracy: 1.0000 - val_loss: 0.0557 - val_accuracy: 0.9625\n",
      "Epoch 90/100\n",
      "320/320 [==============================] - 4s 13ms/step - loss: 7.3975e-04 - accuracy: 1.0000 - val_loss: 0.0627 - val_accuracy: 0.9750\n",
      "Epoch 91/100\n",
      "320/320 [==============================] - 3s 11ms/step - loss: 0.0011 - accuracy: 1.0000 - val_loss: 0.0676 - val_accuracy: 0.9625\n",
      "Epoch 92/100\n",
      "320/320 [==============================] - 2s 8ms/step - loss: 4.3547e-04 - accuracy: 1.0000 - val_loss: 0.0776 - val_accuracy: 0.9750\n",
      "Epoch 93/100\n",
      "320/320 [==============================] - 2s 7ms/step - loss: 0.0012 - accuracy: 1.0000 - val_loss: 0.0815 - val_accuracy: 0.9750\n",
      "Epoch 94/100\n",
      "320/320 [==============================] - 2s 6ms/step - loss: 7.3620e-04 - accuracy: 1.0000 - val_loss: 0.0776 - val_accuracy: 0.9750\n",
      "Epoch 95/100\n",
      "320/320 [==============================] - 2s 5ms/step - loss: 5.9960e-04 - accuracy: 1.0000 - val_loss: 0.0732 - val_accuracy: 0.9750\n",
      "Epoch 96/100\n",
      "320/320 [==============================] - 2s 5ms/step - loss: 0.0020 - accuracy: 1.0000 - val_loss: 0.0789 - val_accuracy: 0.9625\n",
      "Epoch 97/100\n",
      "320/320 [==============================] - 2s 5ms/step - loss: 6.1496e-04 - accuracy: 1.0000 - val_loss: 0.0799 - val_accuracy: 0.9625\n",
      "Epoch 98/100\n",
      "320/320 [==============================] - 2s 6ms/step - loss: 0.0040 - accuracy: 0.9969 - val_loss: 0.0731 - val_accuracy: 0.9625\n",
      "Epoch 99/100\n",
      "320/320 [==============================] - 3s 11ms/step - loss: 0.0046 - accuracy: 1.0000 - val_loss: 0.0888 - val_accuracy: 0.9375\n",
      "Epoch 100/100\n",
      "320/320 [==============================] - 4s 11ms/step - loss: 0.0035 - accuracy: 1.0000 - val_loss: 0.0683 - val_accuracy: 0.9625\n"
     ]
    }
   ],
   "source": [
    "history = model.fit(xTrain, yTrain, batch_size=32, epochs=100, validation_data=(xTest, yTest))"
   ]
  },
  {
   "cell_type": "code",
   "execution_count": 16,
   "metadata": {},
   "outputs": [
    {
     "name": "stdout",
     "output_type": "stream",
     "text": [
      "400/400 [==============================] - 1s 2ms/step\n"
     ]
    },
    {
     "name": "stderr",
     "output_type": "stream",
     "text": [
      "/home/pedro/.local/lib/python3.6/site-packages/pandas/plotting/_matplotlib/tools.py:298: MatplotlibDeprecationWarning: \n",
      "The rowNum attribute was deprecated in Matplotlib 3.2 and will be removed two minor releases later. Use ax.get_subplotspec().rowspan.start instead.\n",
      "  layout[ax.rowNum, ax.colNum] = ax.get_visible()\n",
      "/home/pedro/.local/lib/python3.6/site-packages/pandas/plotting/_matplotlib/tools.py:298: MatplotlibDeprecationWarning: \n",
      "The colNum attribute was deprecated in Matplotlib 3.2 and will be removed two minor releases later. Use ax.get_subplotspec().colspan.start instead.\n",
      "  layout[ax.rowNum, ax.colNum] = ax.get_visible()\n",
      "/home/pedro/.local/lib/python3.6/site-packages/pandas/plotting/_matplotlib/tools.py:304: MatplotlibDeprecationWarning: \n",
      "The rowNum attribute was deprecated in Matplotlib 3.2 and will be removed two minor releases later. Use ax.get_subplotspec().rowspan.start instead.\n",
      "  if not layout[ax.rowNum + 1, ax.colNum]:\n",
      "/home/pedro/.local/lib/python3.6/site-packages/pandas/plotting/_matplotlib/tools.py:304: MatplotlibDeprecationWarning: \n",
      "The colNum attribute was deprecated in Matplotlib 3.2 and will be removed two minor releases later. Use ax.get_subplotspec().colspan.start instead.\n",
      "  if not layout[ax.rowNum + 1, ax.colNum]:\n",
      "/home/pedro/.local/lib/python3.6/site-packages/pandas/plotting/_matplotlib/tools.py:298: MatplotlibDeprecationWarning: \n",
      "The rowNum attribute was deprecated in Matplotlib 3.2 and will be removed two minor releases later. Use ax.get_subplotspec().rowspan.start instead.\n",
      "  layout[ax.rowNum, ax.colNum] = ax.get_visible()\n",
      "/home/pedro/.local/lib/python3.6/site-packages/pandas/plotting/_matplotlib/tools.py:298: MatplotlibDeprecationWarning: \n",
      "The colNum attribute was deprecated in Matplotlib 3.2 and will be removed two minor releases later. Use ax.get_subplotspec().colspan.start instead.\n",
      "  layout[ax.rowNum, ax.colNum] = ax.get_visible()\n",
      "/home/pedro/.local/lib/python3.6/site-packages/pandas/plotting/_matplotlib/tools.py:304: MatplotlibDeprecationWarning: \n",
      "The rowNum attribute was deprecated in Matplotlib 3.2 and will be removed two minor releases later. Use ax.get_subplotspec().rowspan.start instead.\n",
      "  if not layout[ax.rowNum + 1, ax.colNum]:\n",
      "/home/pedro/.local/lib/python3.6/site-packages/pandas/plotting/_matplotlib/tools.py:304: MatplotlibDeprecationWarning: \n",
      "The colNum attribute was deprecated in Matplotlib 3.2 and will be removed two minor releases later. Use ax.get_subplotspec().colspan.start instead.\n",
      "  if not layout[ax.rowNum + 1, ax.colNum]:\n"
     ]
    },
    {
     "data": {
      "image/png": "[encoded data removed]",
      "text/plain": [
       "<Figure size 864x576 with 2 Axes>"
      ]
     },
     "metadata": {
      "needs_background": "light"
     },
     "output_type": "display_data"
    }
   ],
   "source": [
    "accuracy = model.evaluate(samples, labels)\n",
    "mhistory = pd.DataFrame()\n",
    "mhistory['Train Loss'] = history.history['loss']\n",
    "mhistory['Validation Loss'] = history.history['val_loss']\n",
    "mhistory['Train Accuracy'] = history.history['accuracy']\n",
    "mhistory['Validation Accuracy'] = history.history['val_accuracy']\n",
    "\n",
    "fig, axarr = plt.subplots(nrows=2, ncols=1, figsize=(12,8))\n",
    "axarr[0].set_title(\"History of Loss in Train and Validation Datasets\")\n",
    "mhistory[[\"Train Loss\", \"Validation Loss\"]].plot(ax=axarr[0])\n",
    "axarr[1].set_title(\"History of Accuracy in Train and Validation Datasets\")\n",
    "mhistory[[\"Train Accuracy\", \"Validation Accuracy\"]].plot(ax=axarr[1])\n",
    "plt.show()"
   ]
  },
  {
   "cell_type": "code",
   "execution_count": 17,
   "metadata": {},
   "outputs": [
    {
     "data": {
      "image/png": "[encoded data removed]",
      "text/plain": [
       "<Figure size 432x288 with 2 Axes>"
      ]
     },
     "metadata": {
      "needs_background": "light"
     },
     "output_type": "display_data"
    }
   ],
   "source": [
    "testLables = [str(i) for i in range(0, 40)]\n",
    "predictions = model.predict(xTrain, batch_size=10, verbose=0)\n",
    "rPredictions = model.predict_classes(xTest, batch_size=10, verbose=0)\n",
    "rLabels = np.argmax(yTest, axis=1)\n",
    "confusionMatrix = confusion_matrix(rLabels, rPredictions)\n",
    "plotConfusionMatrix(confusionMatrix, testLables)"
   ]
  },
  {
   "cell_type": "code",
   "execution_count": 18,
   "metadata": {},
   "outputs": [
    {
     "name": "stdout",
     "output_type": "stream",
     "text": [
      "Test loss:  0.06833475530147552\n",
      "Test accuracy:  0.9624999761581421\n"
     ]
    }
   ],
   "source": [
    "score = model.evaluate(xTest, yTest, verbose=0)\n",
    "\n",
    "print('Test loss: ', score[0])\n",
    "print('Test accuracy: ', score[1])"
   ]
  },
  {
   "cell_type": "code",
   "execution_count": 19,
   "metadata": {},
   "outputs": [],
   "source": [
    "model = Sequential()"
   ]
  },
  {
   "cell_type": "code",
   "execution_count": 20,
   "metadata": {},
   "outputs": [],
   "source": [
    "model.add(Conv2D(filters=32, kernel_size=(3,3), activation='relu', input_shape=input_shape))\n",
    "model.add(Conv2D(64,(3,3), activation='relu'))\n",
    "model.add(MaxPooling2D(pool_size=(2,2)))\n",
    "model.add(Dropout(0.5))\n",
    "\n",
    "model.add(Conv2D(64, (3,3), activation='relu'))\n",
    "model.add(MaxPooling2D(pool_size=(2,2)))\n",
    "model.add(Dropout(0.5))\n",
    "\n",
    "model.add(Conv2D(64, (3,3), activation='relu'))\n",
    "model.add(MaxPooling2D(pool_size=(2,2)))\n",
    "model.add(Dropout(0.5))\n",
    "\n",
    "model.add(Flatten())\n",
    "model.add(Dense(120, activation='relu'))\n",
    "model.add(Dense(40,  activation='softmax'))"
   ]
  },
  {
   "cell_type": "code",
   "execution_count": 21,
   "metadata": {},
   "outputs": [
    {
     "name": "stdout",
     "output_type": "stream",
     "text": [
      "Model: \"sequential_3\"\n",
      "_________________________________________________________________\n",
      "Layer (type)                 Output Shape              Param #   \n",
      "=================================================================\n",
      "conv2d_5 (Conv2D)            (None, 62, 62, 32)        320       \n",
      "_________________________________________________________________\n",
      "conv2d_6 (Conv2D)            (None, 60, 60, 64)        18496     \n",
      "_________________________________________________________________\n",
      "max_pooling2d_5 (MaxPooling2 (None, 30, 30, 64)        0         \n",
      "_________________________________________________________________\n",
      "dropout_3 (Dropout)          (None, 30, 30, 64)        0         \n",
      "_________________________________________________________________\n",
      "conv2d_7 (Conv2D)            (None, 28, 28, 64)        36928     \n",
      "_________________________________________________________________\n",
      "max_pooling2d_6 (MaxPooling2 (None, 14, 14, 64)        0         \n",
      "_________________________________________________________________\n",
      "dropout_4 (Dropout)          (None, 14, 14, 64)        0         \n",
      "_________________________________________________________________\n",
      "conv2d_8 (Conv2D)            (None, 12, 12, 64)        36928     \n",
      "_________________________________________________________________\n",
      "max_pooling2d_7 (MaxPooling2 (None, 6, 6, 64)          0         \n",
      "_________________________________________________________________\n",
      "dropout_5 (Dropout)          (None, 6, 6, 64)          0         \n",
      "_________________________________________________________________\n",
      "flatten_3 (Flatten)          (None, 2304)              0         \n",
      "_________________________________________________________________\n",
      "dense_3 (Dense)              (None, 120)               276600    \n",
      "_________________________________________________________________\n",
      "dense_4 (Dense)              (None, 40)                4840      \n",
      "=================================================================\n",
      "Total params: 374,112\n",
      "Trainable params: 374,112\n",
      "Non-trainable params: 0\n",
      "_________________________________________________________________\n"
     ]
    }
   ],
   "source": [
    "model.summary()\n",
    "model.compile(loss='categorical_crossentropy', optimizer=\"adam\", metrics=['accuracy'])"
   ]
  },
  {
   "cell_type": "code",
   "execution_count": 22,
   "metadata": {},
   "outputs": [
    {
     "name": "stdout",
     "output_type": "stream",
     "text": [
      "Train on 320 samples, validate on 80 samples\n",
      "Epoch 1/100\n",
      "320/320 [==============================] - 4s 13ms/step - loss: 3.7443 - accuracy: 0.0188 - val_loss: 3.6911 - val_accuracy: 0.0125\n",
      "Epoch 2/100\n",
      "320/320 [==============================] - 4s 14ms/step - loss: 3.6858 - accuracy: 0.0219 - val_loss: 3.6925 - val_accuracy: 0.0000e+00\n",
      "Epoch 3/100\n",
      "320/320 [==============================] - 4s 11ms/step - loss: 3.6784 - accuracy: 0.0375 - val_loss: 3.6995 - val_accuracy: 0.0125\n",
      "Epoch 4/100\n",
      "320/320 [==============================] - 5s 15ms/step - loss: 3.6716 - accuracy: 0.0344 - val_loss: 3.7090 - val_accuracy: 0.0000e+00\n",
      "Epoch 5/100\n",
      "320/320 [==============================] - 5s 14ms/step - loss: 3.6811 - accuracy: 0.0406 - val_loss: 3.7058 - val_accuracy: 0.0125\n",
      "Epoch 6/100\n",
      "320/320 [==============================] - 4s 14ms/step - loss: 3.6616 - accuracy: 0.0344 - val_loss: 3.7005 - val_accuracy: 0.0000e+00\n",
      "Epoch 7/100\n",
      "320/320 [==============================] - 4s 11ms/step - loss: 3.6610 - accuracy: 0.0250 - val_loss: 3.7060 - val_accuracy: 0.0250\n",
      "Epoch 8/100\n",
      "320/320 [==============================] - 3s 10ms/step - loss: 3.6447 - accuracy: 0.0437 - val_loss: 3.6996 - val_accuracy: 0.0000e+00\n",
      "Epoch 9/100\n",
      "320/320 [==============================] - 4s 11ms/step - loss: 3.6154 - accuracy: 0.0594 - val_loss: 3.6867 - val_accuracy: 0.0250\n",
      "Epoch 10/100\n",
      "320/320 [==============================] - 5s 15ms/step - loss: 3.5449 - accuracy: 0.0500 - val_loss: 3.6480 - val_accuracy: 0.0250\n",
      "Epoch 11/100\n",
      "320/320 [==============================] - 4s 12ms/step - loss: 3.3891 - accuracy: 0.1094 - val_loss: 3.5060 - val_accuracy: 0.1000\n",
      "Epoch 12/100\n",
      "320/320 [==============================] - 4s 12ms/step - loss: 3.2528 - accuracy: 0.1000 - val_loss: 3.4241 - val_accuracy: 0.1125\n",
      "Epoch 13/100\n",
      "320/320 [==============================] - 4s 12ms/step - loss: 2.9985 - accuracy: 0.1500 - val_loss: 3.1698 - val_accuracy: 0.1625\n",
      "Epoch 14/100\n",
      "320/320 [==============================] - 4s 12ms/step - loss: 2.8189 - accuracy: 0.1906 - val_loss: 2.7905 - val_accuracy: 0.2500\n",
      "Epoch 15/100\n",
      "320/320 [==============================] - 4s 12ms/step - loss: 2.5408 - accuracy: 0.3094 - val_loss: 2.3934 - val_accuracy: 0.3875\n",
      "Epoch 16/100\n",
      "320/320 [==============================] - 4s 12ms/step - loss: 2.1310 - accuracy: 0.3750 - val_loss: 2.0556 - val_accuracy: 0.4500\n",
      "Epoch 17/100\n",
      "320/320 [==============================] - 4s 12ms/step - loss: 1.8241 - accuracy: 0.4344 - val_loss: 1.7490 - val_accuracy: 0.5125\n",
      "Epoch 18/100\n",
      "320/320 [==============================] - 4s 12ms/step - loss: 1.5796 - accuracy: 0.5281 - val_loss: 1.3794 - val_accuracy: 0.6750\n",
      "Epoch 19/100\n",
      "320/320 [==============================] - 4s 12ms/step - loss: 1.2354 - accuracy: 0.6313 - val_loss: 1.1828 - val_accuracy: 0.6625\n",
      "Epoch 20/100\n",
      "320/320 [==============================] - 4s 12ms/step - loss: 1.0648 - accuracy: 0.7031 - val_loss: 0.8721 - val_accuracy: 0.7750\n",
      "Epoch 21/100\n",
      "320/320 [==============================] - 4s 12ms/step - loss: 0.8470 - accuracy: 0.7437 - val_loss: 0.6642 - val_accuracy: 0.8375\n",
      "Epoch 22/100\n",
      "320/320 [==============================] - 4s 13ms/step - loss: 0.6839 - accuracy: 0.7656 - val_loss: 0.6684 - val_accuracy: 0.8375\n",
      "Epoch 23/100\n",
      "320/320 [==============================] - 4s 12ms/step - loss: 0.5174 - accuracy: 0.8438 - val_loss: 0.4414 - val_accuracy: 0.8875\n",
      "Epoch 24/100\n",
      "320/320 [==============================] - 4s 12ms/step - loss: 0.4003 - accuracy: 0.8781 - val_loss: 0.4626 - val_accuracy: 0.8500\n",
      "Epoch 25/100\n",
      "320/320 [==============================] - 4s 12ms/step - loss: 0.4033 - accuracy: 0.8687 - val_loss: 0.5028 - val_accuracy: 0.8875\n",
      "Epoch 26/100\n",
      "320/320 [==============================] - 4s 12ms/step - loss: 0.3074 - accuracy: 0.8938 - val_loss: 0.3721 - val_accuracy: 0.9250\n",
      "Epoch 27/100\n",
      "320/320 [==============================] - 4s 12ms/step - loss: 0.3626 - accuracy: 0.9000 - val_loss: 0.4329 - val_accuracy: 0.8500\n",
      "Epoch 28/100\n",
      "320/320 [==============================] - 4s 12ms/step - loss: 0.3219 - accuracy: 0.8875 - val_loss: 0.3748 - val_accuracy: 0.9000\n",
      "Epoch 29/100\n",
      "320/320 [==============================] - 4s 13ms/step - loss: 0.2526 - accuracy: 0.9094 - val_loss: 0.3337 - val_accuracy: 0.8875\n",
      "Epoch 30/100\n",
      "320/320 [==============================] - 5s 15ms/step - loss: 0.1896 - accuracy: 0.9563 - val_loss: 0.3275 - val_accuracy: 0.9125\n",
      "Epoch 31/100\n",
      "320/320 [==============================] - 4s 12ms/step - loss: 0.1984 - accuracy: 0.9281 - val_loss: 0.5028 - val_accuracy: 0.8500\n",
      "Epoch 32/100\n",
      "320/320 [==============================] - 4s 12ms/step - loss: 0.1680 - accuracy: 0.9563 - val_loss: 0.3718 - val_accuracy: 0.8750\n",
      "Epoch 33/100\n",
      "320/320 [==============================] - 4s 13ms/step - loss: 0.1912 - accuracy: 0.9281 - val_loss: 0.2960 - val_accuracy: 0.9250\n",
      "Epoch 34/100\n",
      "320/320 [==============================] - 4s 12ms/step - loss: 0.1574 - accuracy: 0.9500 - val_loss: 0.3047 - val_accuracy: 0.9250\n",
      "Epoch 35/100\n",
      "320/320 [==============================] - 4s 12ms/step - loss: 0.1274 - accuracy: 0.9531 - val_loss: 0.2876 - val_accuracy: 0.9375\n",
      "Epoch 36/100\n",
      "320/320 [==============================] - 4s 13ms/step - loss: 0.1516 - accuracy: 0.9469 - val_loss: 0.2733 - val_accuracy: 0.9250\n",
      "Epoch 37/100\n",
      "320/320 [==============================] - 4s 13ms/step - loss: 0.1467 - accuracy: 0.9594 - val_loss: 0.1719 - val_accuracy: 0.9625\n",
      "Epoch 38/100\n",
      "320/320 [==============================] - 4s 13ms/step - loss: 0.1314 - accuracy: 0.9625 - val_loss: 0.1721 - val_accuracy: 0.9500\n",
      "Epoch 39/100\n",
      "320/320 [==============================] - 4s 13ms/step - loss: 0.1093 - accuracy: 0.9688 - val_loss: 0.1965 - val_accuracy: 0.9375\n",
      "Epoch 40/100\n",
      "320/320 [==============================] - 4s 13ms/step - loss: 0.0640 - accuracy: 0.9812 - val_loss: 0.2488 - val_accuracy: 0.9125\n",
      "Epoch 41/100\n",
      "320/320 [==============================] - 5s 15ms/step - loss: 0.1148 - accuracy: 0.9688 - val_loss: 0.3622 - val_accuracy: 0.8875\n",
      "Epoch 42/100\n",
      "320/320 [==============================] - 5s 16ms/step - loss: 0.1658 - accuracy: 0.9500 - val_loss: 0.2057 - val_accuracy: 0.9500\n",
      "Epoch 43/100\n",
      "320/320 [==============================] - 5s 15ms/step - loss: 0.1589 - accuracy: 0.9500 - val_loss: 0.3330 - val_accuracy: 0.9000\n",
      "Epoch 44/100\n",
      "320/320 [==============================] - 4s 12ms/step - loss: 0.1559 - accuracy: 0.9469 - val_loss: 0.2396 - val_accuracy: 0.9375\n",
      "Epoch 45/100\n",
      "320/320 [==============================] - 4s 14ms/step - loss: 0.0955 - accuracy: 0.9688 - val_loss: 0.2420 - val_accuracy: 0.9375\n",
      "Epoch 46/100\n",
      "320/320 [==============================] - 4s 11ms/step - loss: 0.0900 - accuracy: 0.9656 - val_loss: 0.2636 - val_accuracy: 0.8875\n",
      "Epoch 47/100\n",
      "320/320 [==============================] - 5s 14ms/step - loss: 0.0918 - accuracy: 0.9719 - val_loss: 0.2219 - val_accuracy: 0.9375\n",
      "Epoch 48/100\n",
      "320/320 [==============================] - 5s 15ms/step - loss: 0.0669 - accuracy: 0.9875 - val_loss: 0.3311 - val_accuracy: 0.8750\n",
      "Epoch 49/100\n",
      "320/320 [==============================] - 5s 15ms/step - loss: 0.0732 - accuracy: 0.9688 - val_loss: 0.1682 - val_accuracy: 0.9625\n",
      "Epoch 50/100\n",
      "320/320 [==============================] - 5s 17ms/step - loss: 0.0490 - accuracy: 0.9812 - val_loss: 0.1670 - val_accuracy: 0.9375\n",
      "Epoch 51/100\n",
      "320/320 [==============================] - 4s 14ms/step - loss: 0.0789 - accuracy: 0.9719 - val_loss: 0.1525 - val_accuracy: 0.9500\n",
      "Epoch 52/100\n",
      "320/320 [==============================] - 3s 10ms/step - loss: 0.0887 - accuracy: 0.9781 - val_loss: 0.2342 - val_accuracy: 0.9375\n",
      "Epoch 53/100\n",
      "320/320 [==============================] - 3s 10ms/step - loss: 0.0612 - accuracy: 0.9781 - val_loss: 0.3883 - val_accuracy: 0.8875\n",
      "Epoch 54/100\n",
      "320/320 [==============================] - 5s 16ms/step - loss: 0.0753 - accuracy: 0.9781 - val_loss: 0.2688 - val_accuracy: 0.9375\n",
      "Epoch 55/100\n",
      "320/320 [==============================] - 5s 15ms/step - loss: 0.0459 - accuracy: 0.9844 - val_loss: 0.2197 - val_accuracy: 0.9000\n",
      "Epoch 56/100\n",
      "320/320 [==============================] - 5s 17ms/step - loss: 0.0638 - accuracy: 0.9688 - val_loss: 0.1580 - val_accuracy: 0.9625\n",
      "Epoch 57/100\n"
     ]
    },
    {
     "name": "stdout",
     "output_type": "stream",
     "text": [
      "320/320 [==============================] - 4s 14ms/step - loss: 0.1184 - accuracy: 0.9594 - val_loss: 0.1653 - val_accuracy: 0.9500\n",
      "Epoch 58/100\n",
      "320/320 [==============================] - 5s 15ms/step - loss: 0.1534 - accuracy: 0.9688 - val_loss: 0.3480 - val_accuracy: 0.8625\n",
      "Epoch 59/100\n",
      "320/320 [==============================] - 4s 12ms/step - loss: 0.0485 - accuracy: 0.9812 - val_loss: 0.2417 - val_accuracy: 0.9375\n",
      "Epoch 60/100\n",
      "320/320 [==============================] - 5s 15ms/step - loss: 0.0407 - accuracy: 0.9875 - val_loss: 0.1793 - val_accuracy: 0.9500\n",
      "Epoch 61/100\n",
      "320/320 [==============================] - 6s 17ms/step - loss: 0.0446 - accuracy: 0.9812 - val_loss: 0.1821 - val_accuracy: 0.9500\n",
      "Epoch 62/100\n",
      "320/320 [==============================] - 5s 17ms/step - loss: 0.0462 - accuracy: 0.9875 - val_loss: 0.1432 - val_accuracy: 0.9375\n",
      "Epoch 63/100\n",
      "320/320 [==============================] - 5s 15ms/step - loss: 0.0250 - accuracy: 0.9937 - val_loss: 0.1153 - val_accuracy: 0.9625\n",
      "Epoch 64/100\n",
      "320/320 [==============================] - 3s 11ms/step - loss: 0.0507 - accuracy: 0.9844 - val_loss: 0.1560 - val_accuracy: 0.9500\n",
      "Epoch 65/100\n",
      "320/320 [==============================] - 3s 10ms/step - loss: 0.0406 - accuracy: 0.9844 - val_loss: 0.1422 - val_accuracy: 0.9750\n",
      "Epoch 66/100\n",
      "320/320 [==============================] - 3s 10ms/step - loss: 0.0214 - accuracy: 0.9875 - val_loss: 0.1412 - val_accuracy: 0.9625\n",
      "Epoch 67/100\n",
      "320/320 [==============================] - 6s 19ms/step - loss: 0.0673 - accuracy: 0.9781 - val_loss: 0.1285 - val_accuracy: 0.9625\n",
      "Epoch 68/100\n",
      "320/320 [==============================] - 6s 18ms/step - loss: 0.0509 - accuracy: 0.9875 - val_loss: 0.1432 - val_accuracy: 0.9625\n",
      "Epoch 69/100\n",
      "320/320 [==============================] - 5s 17ms/step - loss: 0.0301 - accuracy: 0.9875 - val_loss: 0.1684 - val_accuracy: 0.9625\n",
      "Epoch 70/100\n",
      "320/320 [==============================] - 5s 17ms/step - loss: 0.0303 - accuracy: 0.9875 - val_loss: 0.1382 - val_accuracy: 0.9375\n",
      "Epoch 71/100\n",
      "320/320 [==============================] - 5s 17ms/step - loss: 0.0313 - accuracy: 0.9937 - val_loss: 0.1263 - val_accuracy: 0.9625\n",
      "Epoch 72/100\n",
      "320/320 [==============================] - 5s 17ms/step - loss: 0.0093 - accuracy: 1.0000 - val_loss: 0.1744 - val_accuracy: 0.9500\n",
      "Epoch 73/100\n",
      "320/320 [==============================] - 6s 19ms/step - loss: 0.0205 - accuracy: 0.9906 - val_loss: 0.1423 - val_accuracy: 0.9500\n",
      "Epoch 74/100\n",
      "320/320 [==============================] - 5s 15ms/step - loss: 0.0286 - accuracy: 0.9906 - val_loss: 0.1057 - val_accuracy: 0.9500\n",
      "Epoch 75/100\n",
      "320/320 [==============================] - 6s 18ms/step - loss: 0.0629 - accuracy: 0.9719 - val_loss: 0.0941 - val_accuracy: 0.9750\n",
      "Epoch 76/100\n",
      "320/320 [==============================] - 7s 21ms/step - loss: 0.0261 - accuracy: 0.9937 - val_loss: 0.6440 - val_accuracy: 0.8375\n",
      "Epoch 77/100\n",
      "320/320 [==============================] - 7s 21ms/step - loss: 0.1439 - accuracy: 0.9656 - val_loss: 0.2248 - val_accuracy: 0.9250\n",
      "Epoch 78/100\n",
      "320/320 [==============================] - 7s 21ms/step - loss: 0.0901 - accuracy: 0.9688 - val_loss: 0.1908 - val_accuracy: 0.9500\n",
      "Epoch 79/100\n",
      "320/320 [==============================] - 7s 20ms/step - loss: 0.0750 - accuracy: 0.9875 - val_loss: 0.1543 - val_accuracy: 0.9625\n",
      "Epoch 80/100\n",
      "320/320 [==============================] - 5s 16ms/step - loss: 0.0288 - accuracy: 0.9937 - val_loss: 0.1531 - val_accuracy: 0.9625\n",
      "Epoch 81/100\n",
      "320/320 [==============================] - 4s 13ms/step - loss: 0.0202 - accuracy: 0.9969 - val_loss: 0.1930 - val_accuracy: 0.9375\n",
      "Epoch 82/100\n",
      "320/320 [==============================] - 4s 12ms/step - loss: 0.0072 - accuracy: 1.0000 - val_loss: 0.1571 - val_accuracy: 0.9625\n",
      "Epoch 83/100\n",
      "320/320 [==============================] - 7s 21ms/step - loss: 0.0246 - accuracy: 0.9906 - val_loss: 0.1874 - val_accuracy: 0.9500\n",
      "Epoch 84/100\n",
      "320/320 [==============================] - 5s 16ms/step - loss: 0.0136 - accuracy: 0.9937 - val_loss: 0.1139 - val_accuracy: 0.9625\n",
      "Epoch 85/100\n",
      "320/320 [==============================] - 5s 17ms/step - loss: 0.0150 - accuracy: 0.9969 - val_loss: 0.1004 - val_accuracy: 0.9625\n",
      "Epoch 86/100\n",
      "320/320 [==============================] - 6s 17ms/step - loss: 0.0128 - accuracy: 0.9969 - val_loss: 0.1487 - val_accuracy: 0.9500\n",
      "Epoch 87/100\n",
      "320/320 [==============================] - 5s 17ms/step - loss: 0.0417 - accuracy: 0.9844 - val_loss: 0.2451 - val_accuracy: 0.9375\n",
      "Epoch 88/100\n",
      "320/320 [==============================] - 5s 17ms/step - loss: 0.0389 - accuracy: 0.9812 - val_loss: 0.1615 - val_accuracy: 0.9375\n",
      "Epoch 89/100\n",
      "320/320 [==============================] - 6s 18ms/step - loss: 0.0419 - accuracy: 0.9906 - val_loss: 0.1709 - val_accuracy: 0.9375\n",
      "Epoch 90/100\n",
      "320/320 [==============================] - 6s 18ms/step - loss: 0.0393 - accuracy: 0.9812 - val_loss: 0.1711 - val_accuracy: 0.9375\n",
      "Epoch 91/100\n",
      "320/320 [==============================] - 6s 18ms/step - loss: 0.0953 - accuracy: 0.9625 - val_loss: 0.1542 - val_accuracy: 0.9500\n",
      "Epoch 92/100\n",
      "320/320 [==============================] - 6s 18ms/step - loss: 0.0517 - accuracy: 0.9812 - val_loss: 0.1637 - val_accuracy: 0.9375\n",
      "Epoch 93/100\n",
      "320/320 [==============================] - 6s 18ms/step - loss: 0.0238 - accuracy: 0.9937 - val_loss: 0.1281 - val_accuracy: 0.9625\n",
      "Epoch 94/100\n",
      "320/320 [==============================] - 6s 18ms/step - loss: 0.0294 - accuracy: 0.9969 - val_loss: 0.1998 - val_accuracy: 0.9375\n",
      "Epoch 95/100\n",
      "320/320 [==============================] - 6s 18ms/step - loss: 0.0331 - accuracy: 0.9906 - val_loss: 0.1733 - val_accuracy: 0.9375\n",
      "Epoch 96/100\n",
      "320/320 [==============================] - 6s 18ms/step - loss: 0.0093 - accuracy: 0.9969 - val_loss: 0.1420 - val_accuracy: 0.9250\n",
      "Epoch 97/100\n",
      "320/320 [==============================] - 6s 18ms/step - loss: 0.0207 - accuracy: 0.9937 - val_loss: 0.1047 - val_accuracy: 0.9750\n",
      "Epoch 98/100\n",
      "320/320 [==============================] - 6s 17ms/step - loss: 0.0194 - accuracy: 0.9969 - val_loss: 0.1707 - val_accuracy: 0.9500\n",
      "Epoch 99/100\n",
      "320/320 [==============================] - 6s 18ms/step - loss: 0.0137 - accuracy: 0.9969 - val_loss: 0.1153 - val_accuracy: 0.9625\n",
      "Epoch 100/100\n",
      "320/320 [==============================] - 6s 18ms/step - loss: 0.0141 - accuracy: 0.9906 - val_loss: 0.1150 - val_accuracy: 0.9500\n"
     ]
    }
   ],
   "source": [
    "history = model.fit(xTrain, yTrain, batch_size=32, epochs=100, validation_data=(xTest, yTest))"
   ]
  },
  {
   "cell_type": "code",
   "execution_count": 23,
   "metadata": {},
   "outputs": [
    {
     "name": "stdout",
     "output_type": "stream",
     "text": [
      "400/400 [==============================] - 1s 3ms/step\n"
     ]
    },
    {
     "name": "stderr",
     "output_type": "stream",
     "text": [
      "/home/pedro/.local/lib/python3.6/site-packages/pandas/plotting/_matplotlib/tools.py:298: MatplotlibDeprecationWarning: \n",
      "The rowNum attribute was deprecated in Matplotlib 3.2 and will be removed two minor releases later. Use ax.get_subplotspec().rowspan.start instead.\n",
      "  layout[ax.rowNum, ax.colNum] = ax.get_visible()\n",
      "/home/pedro/.local/lib/python3.6/site-packages/pandas/plotting/_matplotlib/tools.py:298: MatplotlibDeprecationWarning: \n",
      "The colNum attribute was deprecated in Matplotlib 3.2 and will be removed two minor releases later. Use ax.get_subplotspec().colspan.start instead.\n",
      "  layout[ax.rowNum, ax.colNum] = ax.get_visible()\n",
      "/home/pedro/.local/lib/python3.6/site-packages/pandas/plotting/_matplotlib/tools.py:304: MatplotlibDeprecationWarning: \n",
      "The rowNum attribute was deprecated in Matplotlib 3.2 and will be removed two minor releases later. Use ax.get_subplotspec().rowspan.start instead.\n",
      "  if not layout[ax.rowNum + 1, ax.colNum]:\n",
      "/home/pedro/.local/lib/python3.6/site-packages/pandas/plotting/_matplotlib/tools.py:304: MatplotlibDeprecationWarning: \n",
      "The colNum attribute was deprecated in Matplotlib 3.2 and will be removed two minor releases later. Use ax.get_subplotspec().colspan.start instead.\n",
      "  if not layout[ax.rowNum + 1, ax.colNum]:\n",
      "/home/pedro/.local/lib/python3.6/site-packages/pandas/plotting/_matplotlib/tools.py:298: MatplotlibDeprecationWarning: \n",
      "The rowNum attribute was deprecated in Matplotlib 3.2 and will be removed two minor releases later. Use ax.get_subplotspec().rowspan.start instead.\n",
      "  layout[ax.rowNum, ax.colNum] = ax.get_visible()\n",
      "/home/pedro/.local/lib/python3.6/site-packages/pandas/plotting/_matplotlib/tools.py:298: MatplotlibDeprecationWarning: \n",
      "The colNum attribute was deprecated in Matplotlib 3.2 and will be removed two minor releases later. Use ax.get_subplotspec().colspan.start instead.\n",
      "  layout[ax.rowNum, ax.colNum] = ax.get_visible()\n",
      "/home/pedro/.local/lib/python3.6/site-packages/pandas/plotting/_matplotlib/tools.py:304: MatplotlibDeprecationWarning: \n",
      "The rowNum attribute was deprecated in Matplotlib 3.2 and will be removed two minor releases later. Use ax.get_subplotspec().rowspan.start instead.\n",
      "  if not layout[ax.rowNum + 1, ax.colNum]:\n",
      "/home/pedro/.local/lib/python3.6/site-packages/pandas/plotting/_matplotlib/tools.py:304: MatplotlibDeprecationWarning: \n",
      "The colNum attribute was deprecated in Matplotlib 3.2 and will be removed two minor releases later. Use ax.get_subplotspec().colspan.start instead.\n",
      "  if not layout[ax.rowNum + 1, ax.colNum]:\n"
     ]
    },
    {
     "data": {
      "image/png": "[encoded data removed]",
      "text/plain": [
       "<Figure size 864x576 with 2 Axes>"
      ]
     },
     "metadata": {
      "needs_background": "light"
     },
     "output_type": "display_data"
    }
   ],
   "source": [
    "accuracy = model.evaluate(samples, labels)\n",
    "mhistory = pd.DataFrame()\n",
    "mhistory['Train Loss'] = history.history['loss']\n",
    "mhistory['Validation Loss'] = history.history['val_loss']\n",
    "mhistory['Train Accuracy'] = history.history['accuracy']\n",
    "mhistory['Validation Accuracy'] = history.history['val_accuracy']\n",
    "\n",
    "fig, axarr = plt.subplots(nrows=2, ncols=1, figsize=(12,8))\n",
    "axarr[0].set_title(\"History of Loss in Train and Validation Datasets\")\n",
    "mhistory[[\"Train Loss\", \"Validation Loss\"]].plot(ax=axarr[0])\n",
    "axarr[1].set_title(\"History of Accuracy in Train and Validation Datasets\")\n",
    "mhistory[[\"Train Accuracy\", \"Validation Accuracy\"]].plot(ax=axarr[1])\n",
    "plt.show()"
   ]
  },
  {
   "cell_type": "code",
   "execution_count": 24,
   "metadata": {},
   "outputs": [
    {
     "data": {
      "image/png": "[encoded data removed]",
      "text/plain": [
       "<Figure size 432x288 with 2 Axes>"
      ]
     },
     "metadata": {
      "needs_background": "light"
     },
     "output_type": "display_data"
    }
   ],
   "source": [
    "testLables = [str(i) for i in range(0, 40)]\n",
    "predictions = model.predict(xTrain, batch_size=10, verbose=0)\n",
    "rPredictions = model.predict_classes(xTest, batch_size=10, verbose=0)\n",
    "rLabels = np.argmax(yTest, axis=1)\n",
    "confusionMatrix = confusion_matrix(rLabels, rPredictions)\n",
    "plotConfusionMatrix(confusionMatrix, testLables)"
   ]
  },
  {
   "cell_type": "code",
   "execution_count": 25,
   "metadata": {},
   "outputs": [
    {
     "name": "stdout",
     "output_type": "stream",
     "text": [
      "Test loss:  0.11501560509204864\n",
      "Test accuracy:  0.949999988079071\n"
     ]
    }
   ],
   "source": [
    "score = model.evaluate(xTest, yTest, verbose=0)\n",
    "\n",
    "print('Test loss: ', score[0])\n",
    "print('Test accuracy: ', score[1])"
   ]
  },
  {
   "cell_type": "code",
   "execution_count": null,
   "metadata": {},
   "outputs": [],
   "source": []
  }
 ],
 "metadata": {
  "kernelspec": {
   "display_name": "Python 3",
   "language": "python",
   "name": "python3"
  },
  "language_info": {
   "codemirror_mode": {
    "name": "ipython",
    "version": 3
   },
   "file_extension": ".py",
   "mimetype": "text/x-python",
   "name": "python",
   "nbconvert_exporter": "python",
   "pygments_lexer": "ipython3",
   "version": "3.6.9"
  }
 },
 "nbformat": 4,
 "nbformat_minor": 4
}
